{
 "cells": [
  {
   "cell_type": "code",
   "execution_count": 1,
   "metadata": {
    "collapsed": true
   },
   "outputs": [],
   "source": [
    "# -*- coding: utf-8 -*-\n",
    "from sklearn.feature_extraction.text import CountVectorizer, TfidfVectorizer\n",
    "from lxml import objectify\n",
    "from pandas import DataFrame\n",
    "from datetime import datetime, date, time\n",
    "from dateutil.parser import parse\n",
    "import pandas as pd\n",
    "import numpy as np\n",
    "import sklearn as sk\n",
    "import time\n",
    "import sys\n",
    "from sklearn import metrics\n",
    "import re\n",
    "from numpy.random import seed\n",
    "import nltk.stem"
   ]
  },
  {
   "cell_type": "code",
   "execution_count": 2,
   "metadata": {
    "collapsed": true
   },
   "outputs": [],
   "source": [
    "from IPython.display import display, HTML\n",
    "from sklearn.metrics import confusion_matrix\n",
    "import matplotlib.pyplot as plt\n",
    "from matplotlib import rc\n",
    "font = {'family': 'Verdana',\n",
    "        'weight': 'normal'}\n",
    "rc('font', **font)"
   ]
  },
  {
   "cell_type": "code",
   "execution_count": 3,
   "metadata": {
    "collapsed": true
   },
   "outputs": [],
   "source": [
    "\n",
    "\n",
    "ru_stemmer = nltk.stem.SnowballStemmer('russian')"
   ]
  },
  {
   "cell_type": "code",
   "execution_count": 4,
   "metadata": {
    "collapsed": true
   },
   "outputs": [],
   "source": [
    "\n",
    "class StemmedCountVectorizer(CountVectorizer):\n",
    "    def build_analyzer(self):\n",
    "        analyzer = super(StemmedCountVectorizer, self).build_analyzer()\n",
    "        return lambda doc: ([ru_stemmer.stem(w) for w in analyzer(doc)])\n",
    "\n",
    "#vectorizerContent = StemmedCountVectorizer(min_df=1, analyzer=\"word\", stop_words=stop_words)"
   ]
  },
  {
   "cell_type": "code",
   "execution_count": 6,
   "metadata": {
    "collapsed": false
   },
   "outputs": [
    {
     "data": {
      "text/html": [
       "<div>\n",
       "<table border=\"1\" class=\"dataframe\">\n",
       "  <thead>\n",
       "    <tr style=\"text-align: right;\">\n",
       "      <th></th>\n",
       "      <th>id</th>\n",
       "      <th>title</th>\n",
       "      <th>autor</th>\n",
       "      <th>text</th>\n",
       "      <th>data</th>\n",
       "      <th>cat</th>\n",
       "      <th>text2</th>\n",
       "      <th>noun</th>\n",
       "      <th>text3</th>\n",
       "      <th>year</th>\n",
       "    </tr>\n",
       "  </thead>\n",
       "  <tbody>\n",
       "    <tr>\n",
       "      <th>1349</th>\n",
       "      <td>1349</td>\n",
       "      <td>россия удивлена заявлениями премьер-министра у...</td>\n",
       "      <td>Krassotkin</td>\n",
       "      <td>{{:дата|3 ноября 2005}} {{украина}}в [[w:ru:мо...</td>\n",
       "      <td>3 ноября 2005</td>\n",
       "      <td>россия, украина, политика, вто, юрий ехануров,...</td>\n",
       "      <td>украинав  обратили внимание на сообщения  о в...</td>\n",
       "      <td>[россия, премьерминистр, украина, разъяснение,...</td>\n",
       "      <td>[россия, заявлениями, премьерминистра, украины...</td>\n",
       "      <td>2005-11-01</td>\n",
       "    </tr>\n",
       "    <tr>\n",
       "      <th>1353</th>\n",
       "      <td>1353</td>\n",
       "      <td>впервые зарегистрирован свет самых древних звезд</td>\n",
       "      <td>Krassotkin</td>\n",
       "      <td>{{дата|3 ноября 2005}}{{астрономия}}[[:w:спитц...</td>\n",
       "      <td>3 ноября 2005</td>\n",
       "      <td>опубликовано, спитцер, nasa, вселенная, nature</td>\n",
       "      <td>астрономия, предположительно, зарегистрировал ...</td>\n",
       "      <td>[свет, звезда, астрономия, свет, звезда, звезд...</td>\n",
       "      <td>[зарегистрирован, свет, древних, звезд, астрон...</td>\n",
       "      <td>2005-11-01</td>\n",
       "    </tr>\n",
       "    <tr>\n",
       "      <th>1359</th>\n",
       "      <td>1359</td>\n",
       "      <td>день народного единства</td>\n",
       "      <td>Krassotkin</td>\n",
       "      <td>{{дата|4 ноября 2005}}в россии первый раз праз...</td>\n",
       "      <td>4 ноября 2005</td>\n",
       "      <td>россия, день народного единства, праздники</td>\n",
       "      <td>в россии первый раз празднуют «день народного ...</td>\n",
       "      <td>[день, год, год, войско, князь]</td>\n",
       "      <td>[день, единства, россии, раз, день, единства, ...</td>\n",
       "      <td>2005-11-01</td>\n",
       "    </tr>\n",
       "    <tr>\n",
       "      <th>1361</th>\n",
       "      <td>1361</td>\n",
       "      <td>беспорядки в париже</td>\n",
       "      <td>Krassotkin</td>\n",
       "      <td>{{дата|5 ноября 2005}} {{франция}}[[изображени...</td>\n",
       "      <td>5 ноября 2005</td>\n",
       "      <td>франция, гражданские беспорядки, париж, страсб...</td>\n",
       "      <td>францияв , уже больше недели, продолжаются ма...</td>\n",
       "      <td>[беспорядок, беспорядок, молодая, человек, гор...</td>\n",
       "      <td>[беспорядки, париже, францияв, недели, массовы...</td>\n",
       "      <td>2005-11-01</td>\n",
       "    </tr>\n",
       "    <tr>\n",
       "      <th>1381</th>\n",
       "      <td>1381</td>\n",
       "      <td>парламентские выборы в азербайджане</td>\n",
       "      <td>Artem Korzhimanov</td>\n",
       "      <td>{{дата|6 ноября 2005}}{{азербайджан}}6 ноября ...</td>\n",
       "      <td>6 ноября 2005</td>\n",
       "      <td>политика</td>\n",
       "      <td>азербайджан6 ноября 2005 года в  состоялись па...</td>\n",
       "      <td>[азербайджан, ноябрь, выбор, данные, большинст...</td>\n",
       "      <td>[выборы, азербайджане, азербайджан, ноября, го...</td>\n",
       "      <td>2005-11-01</td>\n",
       "    </tr>\n",
       "  </tbody>\n",
       "</table>\n",
       "</div>"
      ],
      "text/plain": [
       "        id                                              title  \\\n",
       "1349  1349  россия удивлена заявлениями премьер-министра у...   \n",
       "1353  1353   впервые зарегистрирован свет самых древних звезд   \n",
       "1359  1359                            день народного единства   \n",
       "1361  1361                                беспорядки в париже   \n",
       "1381  1381                парламентские выборы в азербайджане   \n",
       "\n",
       "                  autor                                               text  \\\n",
       "1349         Krassotkin  {{:дата|3 ноября 2005}} {{украина}}в [[w:ru:мо...   \n",
       "1353         Krassotkin  {{дата|3 ноября 2005}}{{астрономия}}[[:w:спитц...   \n",
       "1359         Krassotkin  {{дата|4 ноября 2005}}в россии первый раз праз...   \n",
       "1361         Krassotkin  {{дата|5 ноября 2005}} {{франция}}[[изображени...   \n",
       "1381  Artem Korzhimanov  {{дата|6 ноября 2005}}{{азербайджан}}6 ноября ...   \n",
       "\n",
       "               data                                                cat  \\\n",
       "1349  3 ноября 2005  россия, украина, политика, вто, юрий ехануров,...   \n",
       "1353  3 ноября 2005     опубликовано, спитцер, nasa, вселенная, nature   \n",
       "1359  4 ноября 2005         россия, день народного единства, праздники   \n",
       "1361  5 ноября 2005  франция, гражданские беспорядки, париж, страсб...   \n",
       "1381  6 ноября 2005                                           политика   \n",
       "\n",
       "                                                  text2  \\\n",
       "1349   украинав  обратили внимание на сообщения  о в...   \n",
       "1353  астрономия, предположительно, зарегистрировал ...   \n",
       "1359  в россии первый раз празднуют «день народного ...   \n",
       "1361   францияв , уже больше недели, продолжаются ма...   \n",
       "1381  азербайджан6 ноября 2005 года в  состоялись па...   \n",
       "\n",
       "                                                   noun  \\\n",
       "1349  [россия, премьерминистр, украина, разъяснение,...   \n",
       "1353  [свет, звезда, астрономия, свет, звезда, звезд...   \n",
       "1359                    [день, год, год, войско, князь]   \n",
       "1361  [беспорядок, беспорядок, молодая, человек, гор...   \n",
       "1381  [азербайджан, ноябрь, выбор, данные, большинст...   \n",
       "\n",
       "                                                  text3        year  \n",
       "1349  [россия, заявлениями, премьерминистра, украины...  2005-11-01  \n",
       "1353  [зарегистрирован, свет, древних, звезд, астрон...  2005-11-01  \n",
       "1359  [день, единства, россии, раз, день, единства, ...  2005-11-01  \n",
       "1361  [беспорядки, париже, францияв, недели, массовы...  2005-11-01  \n",
       "1381  [выборы, азербайджане, азербайджан, ноября, го...  2005-11-01  "
      ]
     },
     "execution_count": 6,
     "metadata": {},
     "output_type": "execute_result"
    }
   ],
   "source": [
    "data_start=pd.read_pickle('data/WikiData_dat_5.pkl')\n",
    "data_start.head()"
   ]
  },
  {
   "cell_type": "code",
   "execution_count": 7,
   "metadata": {
    "collapsed": false
   },
   "outputs": [
    {
     "data": {
      "text/plain": [
       "10748"
      ]
     },
     "execution_count": 7,
     "metadata": {},
     "output_type": "execute_result"
    }
   ],
   "source": [
    "len(data_start)"
   ]
  },
  {
   "cell_type": "code",
   "execution_count": 8,
   "metadata": {
    "collapsed": false
   },
   "outputs": [
    {
     "name": "stdout",
     "output_type": "stream",
     "text": [
      "10748\n"
     ]
    }
   ],
   "source": [
    "topic=[]\n",
    "for row in data_start['cat'].tolist():\n",
    "    if \"спорт\" in row:\n",
    "        topic.append(\"sport\")\n",
    "    else:\n",
    "        topic.append(\"other\")\n",
    "print (len(topic))\n",
    "data_start['topic']=topic\n",
    "#print (data_start.head(1))"
   ]
  },
  {
   "cell_type": "code",
   "execution_count": 9,
   "metadata": {
    "collapsed": false
   },
   "outputs": [],
   "source": [
    "data_bi=data_start[['title', 'cat', 'text2', 'noun', 'topic']][:3000]\n",
    "data_test=data_start[['title', 'cat', 'text2', 'noun', 'topic']][3000:4000]\n",
    "d_sport = (data_bi['topic']==u'sport')\n",
    "data=data_bi.loc[d_sport]\n"
   ]
  },
  {
   "cell_type": "code",
   "execution_count": 10,
   "metadata": {
    "collapsed": false
   },
   "outputs": [
    {
     "name": "stdout",
     "output_type": "stream",
     "text": [
      "117 1000\n"
     ]
    }
   ],
   "source": [
    "print (len(data), len(data_test))"
   ]
  },
  {
   "cell_type": "code",
   "execution_count": 11,
   "metadata": {
    "collapsed": false
   },
   "outputs": [
    {
     "data": {
      "text/html": [
       "<div>\n",
       "<table border=\"1\" class=\"dataframe\">\n",
       "  <thead>\n",
       "    <tr style=\"text-align: right;\">\n",
       "      <th></th>\n",
       "      <th>title</th>\n",
       "      <th>cat</th>\n",
       "      <th>text2</th>\n",
       "      <th>noun</th>\n",
       "      <th>topic</th>\n",
       "    </tr>\n",
       "  </thead>\n",
       "  <tbody>\n",
       "    <tr>\n",
       "      <th>1502</th>\n",
       "      <td>последний тур чемпионата россии по футболу 2005</td>\n",
       "      <td>чемпионат россии по футболу, фк спартак (москв...</td>\n",
       "      <td>футболсыгран последний тур  в 2005 году. в пос...</td>\n",
       "      <td>[чемпионат, россия, тур, клуб, количество, очк...</td>\n",
       "      <td>sport</td>\n",
       "    </tr>\n",
       "    <tr>\n",
       "      <th>1532</th>\n",
       "      <td>рейтинг футбольных сборных</td>\n",
       "      <td>футбол, рейтинг фифа, опубликовано, сборная ис...</td>\n",
       "      <td>футболмеждународная федерация футбола опублико...</td>\n",
       "      <td>[рейтинг, футбол, рейтинг, неудача, игра, мир,...</td>\n",
       "      <td>sport</td>\n",
       "    </tr>\n",
       "    <tr>\n",
       "      <th>1543</th>\n",
       "      <td>скончался джордж бест</td>\n",
       "      <td>великобритания, футбол, некрологи, северная ир...</td>\n",
       "      <td>северная ирландиясегодня в клинике кромвеля в ...</td>\n",
       "      <td>[бест, лондон, футболист, джордж, бестбест, го...</td>\n",
       "      <td>sport</td>\n",
       "    </tr>\n",
       "    <tr>\n",
       "      <th>1569</th>\n",
       "      <td>лучшим футболистом европы 2005 года назван рон...</td>\n",
       "      <td>футбол, опубликовано, сборная бразилии по футб...</td>\n",
       "      <td>лучшим футболистом  2005 года назван форвард и...</td>\n",
       "      <td>[европа, год, роналдиньо, опрос, журналист, га...</td>\n",
       "      <td>sport</td>\n",
       "    </tr>\n",
       "    <tr>\n",
       "      <th>1626</th>\n",
       "      <td>жеребьёвка предварительных групп чм 2006 по фу...</td>\n",
       "      <td>футбол, мюнхен, дортмунд, ганновер, сборная яп...</td>\n",
       "      <td>футбол9 декабря в w|лейпциге будет проведена ...</td>\n",
       "      <td>[жеребьёвка, декабрь, жеребьёвка, чемпионат, м...</td>\n",
       "      <td>sport</td>\n",
       "    </tr>\n",
       "  </tbody>\n",
       "</table>\n",
       "</div>"
      ],
      "text/plain": [
       "                                                  title  \\\n",
       "1502    последний тур чемпионата россии по футболу 2005   \n",
       "1532                         рейтинг футбольных сборных   \n",
       "1543                              скончался джордж бест   \n",
       "1569  лучшим футболистом европы 2005 года назван рон...   \n",
       "1626  жеребьёвка предварительных групп чм 2006 по фу...   \n",
       "\n",
       "                                                    cat  \\\n",
       "1502  чемпионат россии по футболу, фк спартак (москв...   \n",
       "1532  футбол, рейтинг фифа, опубликовано, сборная ис...   \n",
       "1543  великобритания, футбол, некрологи, северная ир...   \n",
       "1569  футбол, опубликовано, сборная бразилии по футб...   \n",
       "1626  футбол, мюнхен, дортмунд, ганновер, сборная яп...   \n",
       "\n",
       "                                                  text2  \\\n",
       "1502  футболсыгран последний тур  в 2005 году. в пос...   \n",
       "1532  футболмеждународная федерация футбола опублико...   \n",
       "1543  северная ирландиясегодня в клинике кромвеля в ...   \n",
       "1569  лучшим футболистом  2005 года назван форвард и...   \n",
       "1626   футбол9 декабря в w|лейпциге будет проведена ...   \n",
       "\n",
       "                                                   noun  topic  \n",
       "1502  [чемпионат, россия, тур, клуб, количество, очк...  sport  \n",
       "1532  [рейтинг, футбол, рейтинг, неудача, игра, мир,...  sport  \n",
       "1543  [бест, лондон, футболист, джордж, бестбест, го...  sport  \n",
       "1569  [европа, год, роналдиньо, опрос, журналист, га...  sport  \n",
       "1626  [жеребьёвка, декабрь, жеребьёвка, чемпионат, м...  sport  "
      ]
     },
     "execution_count": 11,
     "metadata": {},
     "output_type": "execute_result"
    }
   ],
   "source": [
    "data.head()"
   ]
  },
  {
   "cell_type": "code",
   "execution_count": 12,
   "metadata": {
    "collapsed": false
   },
   "outputs": [
    {
     "data": {
      "text/plain": [
       "other    969\n",
       "sport     31\n",
       "Name: topic, dtype: int64"
      ]
     },
     "execution_count": 12,
     "metadata": {},
     "output_type": "execute_result"
    }
   ],
   "source": [
    "data_test['topic'].value_counts()"
   ]
  },
  {
   "cell_type": "code",
   "execution_count": 13,
   "metadata": {
    "collapsed": false
   },
   "outputs": [
    {
     "data": {
      "text/plain": [
       "other    10549\n",
       "sport      199\n",
       "Name: topic, dtype: int64"
      ]
     },
     "execution_count": 13,
     "metadata": {},
     "output_type": "execute_result"
    }
   ],
   "source": [
    "data_start['topic'].value_counts()"
   ]
  },
  {
   "cell_type": "code",
   "execution_count": 14,
   "metadata": {
    "collapsed": false
   },
   "outputs": [
    {
     "data": {
      "text/plain": [
       "sport    117\n",
       "Name: topic, dtype: int64"
      ]
     },
     "execution_count": 14,
     "metadata": {},
     "output_type": "execute_result"
    }
   ],
   "source": [
    "data['topic'].value_counts()"
   ]
  },
  {
   "cell_type": "code",
   "execution_count": null,
   "metadata": {
    "collapsed": true
   },
   "outputs": [],
   "source": []
  },
  {
   "cell_type": "code",
   "execution_count": 15,
   "metadata": {
    "collapsed": false
   },
   "outputs": [
    {
     "name": "stdout",
     "output_type": "stream",
     "text": [
      "1\n"
     ]
    }
   ],
   "source": [
    "dfTimeUniqCat=pd.unique(data.topic.ravel())\n",
    "print (len(dfTimeUniqCat))\n",
    "category = data['topic'].tolist()\n",
    "category = [str(i) for i in category]\n",
    "#category = list(map(str, category))\n",
    "content = data['title'].tolist()\n",
    "stop_words = ['и']\n",
    "content  = [str(x) for x in content]\n",
    "for x in category:\n",
    "    if not isinstance(x, str):\n",
    "        print (x)\n"
   ]
  },
  {
   "cell_type": "code",
   "execution_count": 16,
   "metadata": {
    "collapsed": false
   },
   "outputs": [
    {
     "name": "stdout",
     "output_type": "stream",
     "text": [
      "Wall time: 68.6 ms\n"
     ]
    }
   ],
   "source": [
    "%%time\n",
    "vectorizerContent = StemmedCountVectorizer (min_df=1, stop_words=stop_words, lowercase=True, analyzer=\"word\")\n",
    "vectorizerCategory = CountVectorizer (min_df=1)\n",
    "\n",
    "X = vectorizerContent.fit_transform(content)\n",
    "Xcat = vectorizerCategory.fit_transform(category)\n",
    "xx = X.toarray().transpose()\n",
    "xxcat = Xcat.toarray().transpose()\n",
    "\n",
    "selected_feature_names_Cont = np.asarray(vectorizerContent.get_feature_names())\n",
    "selected_feature_names_Cat = np.asarray(vectorizerCategory.get_feature_names())\n"
   ]
  },
  {
   "cell_type": "code",
   "execution_count": 17,
   "metadata": {
    "collapsed": false
   },
   "outputs": [],
   "source": [
    "class OcTm (object):\n",
    "    def __init__(self,  eta=1.0):\n",
    "        self.eta=eta\n",
    "        \n",
    "    def fit(self, X, y):\n",
    "        i = 0\n",
    "        self.Pwt = 0\n",
    "        for xC in y:\n",
    "            self.Pwt += np.array(xC.toarray())*np.array(X[i].toarray().transpose())\n",
    "            i += 1\n",
    "        i1 = 0\n",
    "        self.Theta = np.arange(self.Pwt.size, dtype=float).reshape(self.Pwt.sum(axis=1).size, self.Pwt[0].size)\n",
    "        for el4 in self.Pwt.sum(axis=1):\n",
    "            i2 = 0\n",
    "            for el1 in self.Pwt[i1]:\n",
    "                self.Theta[i1][i2]=float(el1)/self.Pwt[i1].sum()\n",
    "                i2 += 1\n",
    "            i1 += 1\n",
    "        return self\n",
    "    \n",
    "    def predict(self, query):\n",
    "        predictMatrixW = []\n",
    "        #cN=int(len(query.split(\" \"))/2)\n",
    "        for w in query.split(\" \"):\n",
    "            newWord = vectorizerContent.transform([w]).toarray()\n",
    "            #v1=float(xxcat[1].sum())/(xxcat[1].sum()+xxcat[0].sum())\n",
    "            #v0=float(xxcat[0].sum())/(xxcat[1].sum()+xxcat[0].sum())\n",
    "            value_True=1.0-self.eta\n",
    "            value_False=self.eta\n",
    "            el_data= {}\n",
    "            if newWord.sum()==0:\n",
    "                #cN+=1\n",
    "                el_data[selected_feature_names_Cat[0]] = value_True#*logn(e, cN)\n",
    "                #print (selected_feature_names_Cat[0], v0)\n",
    "                el_data['other'] = value_False#*logn(e, cN)\n",
    "                #print ('other', v1)\n",
    "                predictMatrixW.append(dict(el_data))\n",
    "            else:\n",
    "                j=0\n",
    "                for inNew in np.nditer(newWord):\n",
    "                    if inNew > 0:\n",
    "                        #wordInDoc = float(xx[j].sum())\n",
    "                        k = 0\n",
    "                        for inCat in self.Pwt[j]:\n",
    "                            if inCat > 0:\n",
    "                                #wordInCat = float(xxcat[k].sum())\n",
    "                                #*(1-wordInCat/countDoc)*(1-wordInDoc/countDoc)\n",
    "                                cVal=self.Theta[j][k]#*(1-wordInCat/len(content))*(1-wordInDoc/len(content))\n",
    "                                el_data[selected_feature_names_Cat[0]] = cVal\n",
    "                                el_data['other'] = 1.0-cVal\n",
    "                                predictMatrixW.append(dict(el_data))\n",
    "                            k +=1\n",
    "                    j+=1\n",
    "        dfMW = DataFrame(predictMatrixW)\n",
    "        dfSumMW=dfMW.sum()\n",
    "        i =0\n",
    "        dfSumMW.sort_values(ascending=False, kind='quicksort', na_position='last', inplace=True)\n",
    "        for el in dfSumMW.T.iteritems():\n",
    "            i += 1\n",
    "            if i < 2:\n",
    "                #return (\"%s; %f\" % (el[0], el[1]/dfSumMW.sum()))\n",
    "                return (el[0], el[1]/dfSumMW.sum())\n",
    "\n"
   ]
  },
  {
   "cell_type": "code",
   "execution_count": 25,
   "metadata": {
    "collapsed": false
   },
   "outputs": [
    {
     "data": {
      "text/plain": [
       "<__main__.OcTm at 0x2223b96e6a0>"
      ]
     },
     "execution_count": 25,
     "metadata": {},
     "output_type": "execute_result"
    }
   ],
   "source": [
    "ot=OcTm(eta=0.99)\n",
    "ot.fit(X, Xcat)"
   ]
  },
  {
   "cell_type": "code",
   "execution_count": 26,
   "metadata": {
    "collapsed": false
   },
   "outputs": [
    {
     "data": {
      "text/plain": [
       "('sport', 1.0)"
      ]
     },
     "execution_count": 26,
     "metadata": {},
     "output_type": "execute_result"
    }
   ],
   "source": [
    "ot.predict ('рейтинг футбольных сборных')"
   ]
  },
  {
   "cell_type": "code",
   "execution_count": 27,
   "metadata": {
    "collapsed": false,
    "scrolled": true
   },
   "outputs": [
    {
     "name": "stdout",
     "output_type": "stream",
     "text": [
      "500 google обогнала microsoft и заняла второе место среди it-компаний по капитализации other 0.72 0.0045\n",
      "1000 санта-клаус прибыл в голливуд (видео) other 0.99 0.0015\n",
      "Wall time: 3.32 s\n"
     ]
    }
   ],
   "source": [
    "%%time\n",
    "\n",
    "i = 0\n",
    "outputpredict = []\n",
    "outputpredictVal=[]\n",
    "executionTime=[]\n",
    "for query in data_test['title']:\n",
    "    start_time = time.time()\n",
    "    out=ot.predict(query)\n",
    "    end_time = time.time()\n",
    "    execution_time = round(end_time - start_time, 5)\n",
    "    outputpredict.append(out[0])\n",
    "    outputpredictVal.append(out[1])\n",
    "    i+=1\n",
    "    executionTime.append(execution_time)\n",
    "    if i%500==0:\n",
    "        print (i, query, out[0], out[1], execution_time)\n",
    "\n",
    "    "
   ]
  },
  {
   "cell_type": "code",
   "execution_count": 28,
   "metadata": {
    "collapsed": true
   },
   "outputs": [],
   "source": [
    "clean_test_reviews = []\n",
    "for query in data_test['title']:\n",
    "    clean_test_reviews.append(query)"
   ]
  },
  {
   "cell_type": "code",
   "execution_count": 29,
   "metadata": {
    "collapsed": false
   },
   "outputs": [],
   "source": [
    "output = pd.DataFrame( data={\"title\": clean_test_reviews, 'topic': outputpredict, 'val': outputpredictVal, 'time': executionTime} )\n",
    "outClass=[]\n",
    "try:\n",
    "    outClass.append(output['topic'].value_counts()['other'])\n",
    "except:\n",
    "    outClass.append(0)\n",
    "#print (output['topic'].value_counts()['other'])"
   ]
  },
  {
   "cell_type": "code",
   "execution_count": 30,
   "metadata": {
    "collapsed": false
   },
   "outputs": [
    {
     "data": {
      "text/plain": [
       "other    902\n",
       "sport     98\n",
       "Name: topic, dtype: int64"
      ]
     },
     "execution_count": 30,
     "metadata": {},
     "output_type": "execute_result"
    }
   ],
   "source": [
    "output['topic'].value_counts()"
   ]
  },
  {
   "cell_type": "code",
   "execution_count": null,
   "metadata": {
    "collapsed": true
   },
   "outputs": [],
   "source": []
  },
  {
   "cell_type": "code",
   "execution_count": 31,
   "metadata": {
    "collapsed": false
   },
   "outputs": [
    {
     "name": "stdout",
     "output_type": "stream",
     "text": [
      "accuracy:   0.903\n",
      "[[887  82]\n",
      " [ 15  16]]\n"
     ]
    },
    {
     "data": {
      "image/png": "[encoded data removed]",
      "text/plain": [
       "<matplotlib.figure.Figure at 0x2223b96ee48>"
      ]
     },
     "metadata": {},
     "output_type": "display_data"
    }
   ],
   "source": [
    "score = metrics.accuracy_score(data_test.topic.tolist(), outputpredict)\n",
    "print(\"accuracy:   %0.3f\" % score)\n",
    "\n",
    "confmat=confusion_matrix(data_test.topic.tolist(), outputpredict)\n",
    "print (confmat)\n",
    "labels=['other', 'sport']\n",
    "confmat=metrics.confusion_matrix(data_test.topic.tolist(), outputpredict, labels=labels)\n",
    "fig, ax = plt.subplots(figsize=(5,5))\n",
    "ax.matshow(confmat, cmap=plt.cm.Blues, alpha=0.3)\n",
    "for i in range(confmat.shape[0]):\n",
    "    #print (labels[i])\n",
    "    for j in range(confmat.shape[1]):\n",
    "        #print (labels[j])\n",
    "        ax.text(x=j, y=i,\n",
    "               s=confmat[i,j],\n",
    "               va='center', ha='center')\n",
    "plt.xticks(np.arange(0,2), labels)\n",
    "plt.yticks(np.arange(0,2), labels)\n",
    "plt.xlabel('распознанная метка')\n",
    "plt.ylabel('истинная метка')\n",
    "plt.savefig('data/OC-TM_t-f.png')\n",
    "plt.show()"
   ]
  },
  {
   "cell_type": "code",
   "execution_count": null,
   "metadata": {
    "collapsed": true
   },
   "outputs": [],
   "source": []
  },
  {
   "cell_type": "code",
   "execution_count": null,
   "metadata": {
    "collapsed": true
   },
   "outputs": [],
   "source": []
  }
 ],
 "metadata": {
  "anaconda-cloud": {},
  "kernelspec": {
   "display_name": "Python [conda root]",
   "language": "python",
   "name": "conda-root-py"
  },
  "language_info": {
   "codemirror_mode": {
    "name": "ipython",
    "version": 3
   },
   "file_extension": ".py",
   "mimetype": "text/x-python",
   "name": "python",
   "nbconvert_exporter": "python",
   "pygments_lexer": "ipython3",
   "version": "3.5.2"
  }
 },
 "nbformat": 4,
 "nbformat_minor": 1
}
