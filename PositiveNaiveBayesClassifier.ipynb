{
 "cells": [
  {
   "cell_type": "code",
   "execution_count": 1,
   "metadata": {
    "collapsed": true
   },
   "outputs": [],
   "source": [
    "from nltk.classify import PositiveNaiveBayesClassifier\n",
    "# -*- coding: utf-8 -*-\n",
    "from sklearn.feature_extraction.text import CountVectorizer, TfidfVectorizer\n",
    "from lxml import objectify\n",
    "from pandas import DataFrame\n",
    "from datetime import datetime, date, time\n",
    "from dateutil.parser import parse\n",
    "import pandas as pd\n",
    "import numpy as np\n",
    "import sklearn as sk\n",
    "import time\n",
    "import sys\n",
    "from sklearn import metrics\n",
    "import re\n",
    "import nltk.stem\n",
    "\n",
    "ru_stemmer = nltk.stem.SnowballStemmer('russian')\n",
    "from numpy.lib.scimath import logn\n",
    "from math import e\n",
    "from sklearn import preprocessing\n",
    "from IPython.display import display, HTML\n",
    "from sklearn.metrics import confusion_matrix\n",
    "import matplotlib.pyplot as plt\n",
    "from matplotlib import rc\n",
    "font = {'family': 'Verdana',\n",
    "        'weight': 'normal'}\n",
    "rc('font', **font)\n"
   ]
  },
  {
   "cell_type": "code",
   "execution_count": 7,
   "metadata": {
    "collapsed": false
   },
   "outputs": [
    {
     "name": "stdout",
     "output_type": "stream",
     "text": [
      "10748\n",
      "117 1000 100\n",
      "Test \n",
      " other    969\n",
      "sport     31\n",
      "Name: topic, dtype: int64 \n",
      "ALL \n",
      " other    10549\n",
      "sport      199\n",
      "Name: topic, dtype: int64 \n",
      "Learning\n",
      " sport    117\n",
      "Name: topic, dtype: int64\n"
     ]
    }
   ],
   "source": [
    "data_start=pd.read_pickle('data/WikiData_dat_5.pkl')\n",
    "#print (data_start.head(1))\n",
    "topic=[]\n",
    "for row in data_start['cat'].tolist():\n",
    "    if \"спорт\" in row:\n",
    "        topic.append(\"sport\")\n",
    "    else:\n",
    "        topic.append(\"other\")\n",
    "print (len(topic))\n",
    "data_start['topic']=topic\n",
    "data_bi=data_start[['title', 'cat', 'text2', 'noun', 'topic']][:3000]\n",
    "data_test=data_start[['title', 'cat', 'text2', 'noun', 'topic']][3000:4000]\n",
    "d_sport = (data_bi['topic']==u'sport')\n",
    "d_other=(data_bi['topic']==u'other')\n",
    "#data2=pd.concat([data_bi.loc[d_sport], data_bi.loc[d_other]])\n",
    "data=data_bi.loc[d_sport]\n",
    "data_o=data_bi.loc[d_other]\n",
    "data_other=data_o[:100]\n",
    "print (len(data), len(data_test), len(data_other))\n",
    "print ('Test \\n', data_test['topic'].value_counts(), '\\nALL \\n',  data_start['topic'].value_counts(), '\\nLearning\\n', data['topic'].value_counts())\n",
    "\n",
    "sentence = data['title'].tolist()"
   ]
  },
  {
   "cell_type": "code",
   "execution_count": 8,
   "metadata": {
    "collapsed": true
   },
   "outputs": [],
   "source": [
    "def features(sentence):\n",
    "    words = sentence.lower().split()\n",
    "    return dict(('contains(%s)' % w, True) for w in words)"
   ]
  },
  {
   "cell_type": "code",
   "execution_count": 9,
   "metadata": {
    "collapsed": false
   },
   "outputs": [],
   "source": [
    "sports_sentences = data['title'].tolist()\n",
    "various_sentences = data_other['title'].tolist()\n",
    "positive_featuresets = list(map(features, sports_sentences))\n",
    "unlabeled_featuresets = list(map(features, various_sentences))\n",
    "classifier = PositiveNaiveBayesClassifier.train(positive_featuresets, unlabeled_featuresets)\n"
   ]
  },
  {
   "cell_type": "code",
   "execution_count": 10,
   "metadata": {
    "collapsed": false
   },
   "outputs": [
    {
     "name": "stdout",
     "output_type": "stream",
     "text": [
      "500 google обогнала microsoft и заняла второе место среди it-компаний по капитализации True 0.0\n",
      "1000 санта-клаус прибыл в голливуд (видео) True 0.0\n",
      "Wall time: 30 ms\n"
     ]
    }
   ],
   "source": [
    "%%time\n",
    "\n",
    "i = 0\n",
    "outputpredict = []\n",
    "#outputpredictVal=[]\n",
    "executionTime=[]\n",
    "for query in data_test['title']:\n",
    "    start_time = time.time()\n",
    "    out=classifier.classify(features(query))\n",
    "    #print (out)\n",
    "    if out:\n",
    "        outputpredict.append('sport')\n",
    "    else:\n",
    "        outputpredict.append('other')\n",
    "    end_time = time.time()\n",
    "    execution_time = round(end_time - start_time, 5)\n",
    "    #outputpredict.append(out[0])\n",
    "    #outputpredictVal.append(out[1])\n",
    "    i+=1\n",
    "    executionTime.append(execution_time)\n",
    "    if i%500==0:\n",
    "        print (i, query, out, execution_time)\n",
    "\n",
    "    "
   ]
  },
  {
   "cell_type": "code",
   "execution_count": 12,
   "metadata": {
    "collapsed": false
   },
   "outputs": [
    {
     "name": "stdout",
     "output_type": "stream",
     "text": [
      "accuracy:   0.252\n",
      "[[227 742]\n",
      " [  6  25]]\n"
     ]
    },
    {
     "data": {
      "image/png": "[encoded data removed]",
      "text/plain": [
       "<matplotlib.figure.Figure at 0x1bb555eda90>"
      ]
     },
     "metadata": {},
     "output_type": "display_data"
    }
   ],
   "source": [
    "score = metrics.accuracy_score(data_test.topic.tolist(), outputpredict)\n",
    "print(\"accuracy:   %0.3f\" % score)\n",
    "\n",
    "confmat=confusion_matrix(data_test.topic.tolist(), outputpredict)\n",
    "print (confmat)\n",
    "\n",
    "labels=['other', 'sport']\n",
    "confmat=metrics.confusion_matrix(data_test.topic.tolist(), outputpredict, labels=labels)\n",
    "fig, ax = plt.subplots(figsize=(5,5))\n",
    "ax.matshow(confmat, cmap=plt.cm.Blues, alpha=0.3)\n",
    "for i in range(confmat.shape[0]):\n",
    "    #print (labels[i])\n",
    "    for j in range(confmat.shape[1]):\n",
    "        #print (labels[j])\n",
    "        ax.text(x=j, y=i,\n",
    "               s=confmat[i,j],\n",
    "               va='center', ha='center')\n",
    "plt.xticks(np.arange(0,2), labels)\n",
    "plt.yticks(np.arange(0,2), labels)\n",
    "plt.xlabel('распознанная метка')\n",
    "plt.ylabel('истинная метка')\n",
    "plt.savefig('data/PNB.png')\n",
    "plt.show()"
   ]
  },
  {
   "cell_type": "code",
   "execution_count": null,
   "metadata": {
    "collapsed": true
   },
   "outputs": [],
   "source": []
  }
 ],
 "metadata": {
  "kernelspec": {
   "display_name": "Python [conda root]",
   "language": "python",
   "name": "conda-root-py"
  },
  "language_info": {
   "codemirror_mode": {
    "name": "ipython",
    "version": 3
   },
   "file_extension": ".py",
   "mimetype": "text/x-python",
   "name": "python",
   "nbconvert_exporter": "python",
   "pygments_lexer": "ipython3",
   "version": "3.5.2"
  }
 },
 "nbformat": 4,
 "nbformat_minor": 1
}
