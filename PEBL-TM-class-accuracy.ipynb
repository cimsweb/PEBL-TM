{
 "cells": [
  {
   "cell_type": "code",
   "execution_count": 1,
   "metadata": {},
   "outputs": [],
   "source": [
    "# -*- coding: utf-8 -*-\n",
    "from sklearn.feature_extraction.text import CountVectorizer, TfidfVectorizer\n",
    "from lxml import objectify\n",
    "from pandas import DataFrame\n",
    "from datetime import datetime, date, time\n",
    "from dateutil.parser import parse\n",
    "import pandas as pd\n",
    "import numpy as np\n",
    "import sklearn as sk\n",
    "import time\n",
    "import sys\n",
    "from sklearn import metrics\n",
    "import re\n",
    "from numpy.random import seed\n",
    "import nltk.stem\n",
    "from IPython.display import display, HTML\n",
    "from sklearn.metrics import confusion_matrix\n",
    "import matplotlib.pyplot as plt\n",
    "from matplotlib import rc\n",
    "font = {'family': 'Verdana',\n",
    "        'weight': 'normal'}\n",
    "rc('font', **font)\n",
    "\n",
    "\n",
    "ru_stemmer = nltk.stem.SnowballStemmer('russian')\n",
    "\n",
    "class StemmedCountVectorizer(CountVectorizer):\n",
    "    def build_analyzer(self):\n",
    "        analyzer = super(StemmedCountVectorizer, self).build_analyzer()\n",
    "        return lambda doc: ([ru_stemmer.stem(w) for w in analyzer(doc)])\n",
    "\n"
   ]
  },
  {
   "cell_type": "code",
   "execution_count": 2,
   "metadata": {},
   "outputs": [
    {
     "name": "stdout",
     "output_type": "stream",
     "text": [
      "10748\n",
      "117 1000\n",
      "Wall time: 8.34 s\n"
     ]
    }
   ],
   "source": [
    "%%time\n",
    "data_start=pd.read_pickle('data/WikiData_dat_5.pkl')\n",
    "topic=[]\n",
    "for row in data_start['cat'].tolist():\n",
    "    if \"спорт\" in row:\n",
    "        topic.append(\"sport\")\n",
    "    else:\n",
    "        topic.append(\"other\")\n",
    "print (len(topic))\n",
    "data_start['topic']=topic\n",
    "data_bi=data_start[['title', 'cat', 'text2', 'noun', 'topic']][:3000]\n",
    "data_test=data_start[['title', 'cat', 'text2', 'noun', 'topic']][3000:4000]\n",
    "d_sport = (data_bi['topic']==u'sport')\n",
    "data=data_bi.loc[d_sport]\n",
    "print (len(data), len(data_test))\n"
   ]
  },
  {
   "cell_type": "code",
   "execution_count": 3,
   "metadata": {},
   "outputs": [
    {
     "name": "stdout",
     "output_type": "stream",
     "text": [
      "1\n"
     ]
    }
   ],
   "source": [
    "dfTimeUniqCat=pd.unique(data.topic.ravel())\n",
    "print (len(dfTimeUniqCat))\n",
    "category = data['topic'].tolist()\n",
    "category = [str(i) for i in category]\n",
    "#category = list(map(str, category))\n",
    "content = data['title'].tolist()\n",
    "stop_words = ['и']\n",
    "content  = [str(x) for x in content]\n",
    "for x in category:\n",
    "    if not isinstance(x, str):\n",
    "        print (x)\n"
   ]
  },
  {
   "cell_type": "code",
   "execution_count": 7,
   "metadata": {},
   "outputs": [
    {
     "name": "stdout",
     "output_type": "stream",
     "text": [
      "Wall time: 63 ms\n"
     ]
    }
   ],
   "source": [
    "%%time\n",
    "vectorizerContent = StemmedCountVectorizer (min_df=1, stop_words=stop_words, lowercase=True, analyzer=\"word\")\n",
    "vectorizerContent_2 = CountVectorizer (min_df=1, lowercase=True, analyzer=\"word\", binary=True, ngram_range=(1, 1))\n",
    "vectorizerCategory = CountVectorizer (min_df=1)\n",
    "\n",
    "X = vectorizerContent.fit_transform(content)\n",
    "X_2=vectorizerContent_2.fit_transform(content)\n",
    "Xcat = vectorizerCategory.fit_transform(category)\n",
    "xx = X.toarray().transpose()\n",
    "xxcat = Xcat.toarray().transpose()\n",
    "\n",
    "selected_feature_names_Cont = np.asarray(vectorizerContent.get_feature_names())\n",
    "selected_feature_names_Cat = np.asarray(vectorizerCategory.get_feature_names())\n",
    "\n"
   ]
  },
  {
   "cell_type": "code",
   "execution_count": 8,
   "metadata": {},
   "outputs": [],
   "source": [
    "class OcTm (object):\n",
    "    def __init__(self,  eta=1.0):\n",
    "        self.eta=eta\n",
    "        \n",
    "    def fit(self, X, y):\n",
    "        wordTopic=X.toarray().transpose() @ y\n",
    "        self.ProbTopicWord = wordTopic.transpose()/np.sum(wordTopic, axis=1)\n",
    "        ProbTopicDoc=X@self.ProbTopicWord.transpose()\n",
    "        self.ProbTopicDoc=ProbTopicDoc.transpose()/np.sum(ProbTopicDoc, axis=1)\n",
    "        return self\n",
    "    \n",
    "    def predict(self, query):\n",
    "        predictMatrixW = []\n",
    "        el_data= {}\n",
    "        \n",
    "\n",
    "        new_text_1=re.findall('\\w+', query)\n",
    "        new_text_2 = vectorizerContent_2.transform(new_text_1).toarray()\n",
    "        penalty=(len(new_text_1)-sum(sum(new_text_2)))*self.eta\n",
    "        self.new_text_1=new_text_1\n",
    "\n",
    "        self.new_text_2=new_text_2\n",
    "        self.penalty=penalty\n",
    "        self.topicNewTest=np.dot(vectorizerContent.transform([query]).toarray(), self.ProbTopicWord.transpose())\n",
    "        c=0\n",
    "        for cat in selected_feature_names_Cat:\n",
    "            self.topicNew=np.dot(self.ProbTopicWord[c], vectorizerContent.transform([query]).toarray().transpose())\n",
    "            el_data[selected_feature_names_Cat[c]] = self.topicNew.sum()/(self.topicNewTest.sum()+penalty)\n",
    "            c+=1\n",
    "        el_data['other'] = penalty/(self.topicNewTest.sum()+penalty)\n",
    "        self.el_data=el_data\n",
    "        predictMatrixW.append(dict(el_data))\n",
    "        dfMW = DataFrame(predictMatrixW)\n",
    "        dfSumMW=dfMW.sum()\n",
    "        i =0\n",
    "        dfSumMW.sort_values(ascending=False, kind='quicksort', na_position='last', inplace=True)\n",
    "        self.dfSumMW=dfSumMW\n",
    "        for el in dfSumMW.T.iteritems():\n",
    "            i += 1\n",
    "            if i < 3:\n",
    "                #return (\"%s; %f\" % (el[0], el[1]/dfSumMW.sum()))\n",
    "                #resultat=el[1]/dfSumMW.sum()\n",
    "                return (el[0], round(el[1], 2))\n",
    "\n"
   ]
  },
  {
   "cell_type": "raw",
   "metadata": {
    "collapsed": true
   },
   "source": [
    "class OcTm (object):\n",
    "    def __init__(self,  eta=1.0):\n",
    "        self.eta=eta\n",
    "        \n",
    "    def fit(self, X, y):\n",
    "        i = 0\n",
    "        self.Pwt = 0\n",
    "        for xC in y:\n",
    "            self.Pwt += np.array(xC.toarray())*np.array(X[i].toarray().transpose())\n",
    "            i += 1\n",
    "        i1 = 0\n",
    "        self.Theta = np.arange(self.Pwt.size, dtype=float).reshape(self.Pwt.sum(axis=1).size, self.Pwt[0].size)\n",
    "        for el4 in self.Pwt.sum(axis=1):\n",
    "            i2 = 0\n",
    "            for el1 in self.Pwt[i1]:\n",
    "                self.Theta[i1][i2]=float(el1)/self.Pwt[i1].sum()\n",
    "                i2 += 1\n",
    "            i1 += 1\n",
    "        return self\n",
    "    \n",
    "    def predict(self, query):\n",
    "        predictMatrixW = []\n",
    "        for w in query.split(\" \"):\n",
    "            newWord = vectorizerContent.transform([w]).toarray()\n",
    "            value_True=1.0-self.eta\n",
    "            value_False=self.eta\n",
    "            el_data= {}\n",
    "            if newWord.sum()==0:\n",
    "                el_data[selected_feature_names_Cat[0]] = value_True\n",
    "                el_data['other'] = value_False\n",
    "                predictMatrixW.append(dict(el_data))\n",
    "            else:\n",
    "                j=0\n",
    "                for inNew in np.nditer(newWord):\n",
    "                    if inNew > 0:\n",
    "                        cVal=self.Theta[j][0]\n",
    "                        el_data[selected_feature_names_Cat[0]] = cVal\n",
    "                        el_data['other'] = 1.0-cVal\n",
    "                        predictMatrixW.append(dict(el_data))\n",
    "                    j+=1\n",
    "        dfMW = DataFrame(predictMatrixW)\n",
    "        dfSumMW=dfMW.sum()\n",
    "        i =0\n",
    "        dfSumMW.sort_values(ascending=False, kind='quicksort', na_position='last', inplace=True)\n",
    "        for el in dfSumMW.T.iteritems():\n",
    "            i += 1\n",
    "            if i < 2:\n",
    "                return (el[0], el[1]/dfSumMW.sum())\n",
    "\n"
   ]
  },
  {
   "cell_type": "code",
   "execution_count": null,
   "metadata": {
    "collapsed": true
   },
   "outputs": [],
   "source": []
  },
  {
   "cell_type": "code",
   "execution_count": 9,
   "metadata": {},
   "outputs": [
    {
     "name": "stdout",
     "output_type": "stream",
     "text": [
      "accuracy:   0.936\n",
      "[[924  45]\n",
      " [ 19  12]]\n",
      "accuracy:   0.936\n",
      "[[924  45]\n",
      " [ 19  12]]\n",
      "accuracy:   0.936\n",
      "[[924  45]\n",
      " [ 19  12]]\n",
      "accuracy:   0.930\n",
      "[[918  51]\n",
      " [ 19  12]]\n",
      "accuracy:   0.923\n",
      "[[910  59]\n",
      " [ 18  13]]\n",
      "accuracy:   0.914\n",
      "[[899  70]\n",
      " [ 16  15]]\n",
      "accuracy:   0.813\n",
      "[[793 176]\n",
      " [ 11  20]]\n",
      "accuracy:   0.761\n",
      "[[737 232]\n",
      " [  7  24]]\n",
      "Wall time: 19.3 s\n"
     ]
    }
   ],
   "source": [
    "%%time\n",
    "penalty=[0.99, 0.95, 0.9, 0.85, 0.8, 0.7, 0.5, 0.4]\n",
    "score_p=[]\n",
    "for v in penalty:\n",
    "    i = 0\n",
    "    outputpredict = []\n",
    "    ot=OcTm(eta=v)\n",
    "    ot.fit(X, Xcat)\n",
    "    for query in data_test['title']:\n",
    "        out=ot.predict(query)\n",
    "        outputpredict.append(out[0])\n",
    "        i+=1\n",
    "    score = metrics.accuracy_score(data_test.topic.tolist(), outputpredict)\n",
    "    score_p.append(score)\n",
    "    print(\"accuracy:   %0.3f\" % score)\n",
    "    confmat=confusion_matrix(data_test.topic.tolist(), outputpredict)\n",
    "    print (confmat)\n",
    "\n",
    "    "
   ]
  },
  {
   "cell_type": "code",
   "execution_count": 10,
   "metadata": {},
   "outputs": [
    {
     "data": {
      "image/png": "[encoded data removed]",
      "text/plain": [
       "<matplotlib.figure.Figure at 0x2c5a344e320>"
      ]
     },
     "metadata": {},
     "output_type": "display_data"
    }
   ],
   "source": [
    "plt.figure()\n",
    "plt.plot(penalty, score_p)\n",
    "plt.ylabel('accuracy')\n",
    "plt.xlabel('penalty')\n",
    "plt.savefig('data/OC-TM.png')\n",
    "plt.show()"
   ]
  },
  {
   "cell_type": "code",
   "execution_count": 7,
   "metadata": {
    "collapsed": true
   },
   "outputs": [],
   "source": []
  },
  {
   "cell_type": "code",
   "execution_count": null,
   "metadata": {
    "collapsed": true
   },
   "outputs": [],
   "source": []
  }
 ],
 "metadata": {
  "kernelspec": {
   "display_name": "Python 3",
   "language": "python",
   "name": "python3"
  },
  "language_info": {
   "codemirror_mode": {
    "name": "ipython",
    "version": 3
   },
   "file_extension": ".py",
   "mimetype": "text/x-python",
   "name": "python",
   "nbconvert_exporter": "python",
   "pygments_lexer": "ipython3",
   "version": "3.6.4"
  }
 },
 "nbformat": 4,
 "nbformat_minor": 1
}
