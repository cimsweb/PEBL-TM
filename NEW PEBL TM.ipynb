{
 "cells": [
  {
   "cell_type": "code",
   "execution_count": 1,
   "metadata": {},
   "outputs": [],
   "source": [
    "# -*- coding: utf-8 -*-\n",
    "from sklearn.feature_extraction.text import CountVectorizer, TfidfVectorizer\n",
    "from lxml import objectify\n",
    "from pandas import DataFrame\n",
    "from datetime import datetime, date, time\n",
    "from dateutil.parser import parse\n",
    "import pandas as pd\n",
    "import numpy as np\n",
    "import sklearn as sk\n",
    "import time\n",
    "import sys\n",
    "from sklearn import metrics\n",
    "import re\n",
    "from numpy.random import seed\n",
    "import nltk.stem\n",
    "from IPython.display import display, HTML\n",
    "from sklearn.metrics import confusion_matrix\n",
    "import matplotlib.pyplot as plt\n",
    "from matplotlib import rc\n",
    "font = {'family': 'Verdana',\n",
    "        'weight': 'normal'}\n",
    "rc('font', **font)\n",
    "ru_stemmer = nltk.stem.SnowballStemmer('russian')\n",
    "class StemmedCountVectorizer(CountVectorizer):\n",
    "    def build_analyzer(self):\n",
    "        analyzer = super(StemmedCountVectorizer, self).build_analyzer()\n",
    "        return lambda doc: ([ru_stemmer.stem(w) for w in analyzer(doc)])\n",
    "\n"
   ]
  },
  {
   "cell_type": "code",
   "execution_count": 2,
   "metadata": {},
   "outputs": [
    {
     "name": "stdout",
     "output_type": "stream",
     "text": [
      "10748         id                                              title  \\\n",
      "1349  1349  россия удивлена заявлениями премьер-министра у...   \n",
      "1353  1353   впервые зарегистрирован свет самых древних звезд   \n",
      "1359  1359                            день народного единства   \n",
      "1361  1361                                беспорядки в париже   \n",
      "1381  1381                парламентские выборы в азербайджане   \n",
      "\n",
      "                  autor                                               text  \\\n",
      "1349         Krassotkin  {{:дата|3 ноября 2005}} {{украина}}в [[w:ru:мо...   \n",
      "1353         Krassotkin  {{дата|3 ноября 2005}}{{астрономия}}[[:w:спитц...   \n",
      "1359         Krassotkin  {{дата|4 ноября 2005}}в россии первый раз праз...   \n",
      "1361         Krassotkin  {{дата|5 ноября 2005}} {{франция}}[[изображени...   \n",
      "1381  Artem Korzhimanov  {{дата|6 ноября 2005}}{{азербайджан}}6 ноября ...   \n",
      "\n",
      "               data                                                cat  \\\n",
      "1349  3 ноября 2005  россия, украина, политика, вто, юрий ехануров,...   \n",
      "1353  3 ноября 2005     опубликовано, спитцер, nasa, вселенная, nature   \n",
      "1359  4 ноября 2005         россия, день народного единства, праздники   \n",
      "1361  5 ноября 2005  франция, гражданские беспорядки, париж, страсб...   \n",
      "1381  6 ноября 2005                                           политика   \n",
      "\n",
      "                                                  text2  \\\n",
      "1349   украинав  обратили внимание на сообщения  о в...   \n",
      "1353  астрономия, предположительно, зарегистрировал ...   \n",
      "1359  в россии первый раз празднуют «день народного ...   \n",
      "1361   францияв , уже больше недели, продолжаются ма...   \n",
      "1381  азербайджан6 ноября 2005 года в  состоялись па...   \n",
      "\n",
      "                                                   noun  \\\n",
      "1349  [россия, премьерминистр, украина, разъяснение,...   \n",
      "1353  [свет, звезда, астрономия, свет, звезда, звезд...   \n",
      "1359                    [день, год, год, войско, князь]   \n",
      "1361  [беспорядок, беспорядок, молодая, человек, гор...   \n",
      "1381  [азербайджан, ноябрь, выбор, данные, большинст...   \n",
      "\n",
      "                                                  text3        year  \n",
      "1349  [россия, заявлениями, премьерминистра, украины...  2005-11-01  \n",
      "1353  [зарегистрирован, свет, древних, звезд, астрон...  2005-11-01  \n",
      "1359  [день, единства, россии, раз, день, единства, ...  2005-11-01  \n",
      "1361  [беспорядки, париже, францияв, недели, массовы...  2005-11-01  \n",
      "1381  [выборы, азербайджане, азербайджан, ноября, го...  2005-11-01  \n",
      "10748\n"
     ]
    }
   ],
   "source": [
    "data_start=pd.read_pickle('data/WikiData_dat_5.pkl')\n",
    "\n",
    "print (len(data_start), data_start.head())\n",
    "topic=[]\n",
    "for row in data_start['cat'].tolist():\n",
    "    if \"спорт\" in row:\n",
    "        topic.append(\"sport\")\n",
    "    else:\n",
    "        topic.append(\"other\")\n",
    "print (len(topic))\n",
    "data_start['topic']=topic\n"
   ]
  },
  {
   "cell_type": "code",
   "execution_count": 3,
   "metadata": {},
   "outputs": [
    {
     "name": "stdout",
     "output_type": "stream",
     "text": [
      "117 1000\n",
      "1\n"
     ]
    }
   ],
   "source": [
    "data_bi=data_start[['title', 'cat', 'text2', 'noun', 'topic']][:3000]\n",
    "data_test=data_start[['title', 'cat', 'text2', 'noun', 'topic']][3000:4000]\n",
    "d_sport = (data_bi['topic']==u'sport')\n",
    "data=data_bi.loc[d_sport]\n",
    "print (len(data), len(data_test))\n",
    "dfTimeUniqCat=pd.unique(data.topic.ravel())\n",
    "print (len(dfTimeUniqCat))\n",
    "category = data['topic'].tolist()\n",
    "category = [str(i) for i in category]\n",
    "#category = list(map(str, category))\n",
    "content = data['title'].tolist()\n",
    "stop_words = ['и']\n",
    "content  = [str(x) for x in content]\n",
    "for x in category:\n",
    "    if not isinstance(x, str):\n",
    "        print (x)\n"
   ]
  },
  {
   "cell_type": "code",
   "execution_count": 4,
   "metadata": {},
   "outputs": [
    {
     "name": "stdout",
     "output_type": "stream",
     "text": [
      "Wall time: 62 ms\n"
     ]
    }
   ],
   "source": [
    "%%time\n",
    "vectorizerContent = StemmedCountVectorizer (min_df=1, stop_words=stop_words, lowercase=True, analyzer=\"word\")\n",
    "vectorizerContent_2 = CountVectorizer (min_df=1, lowercase=True, analyzer=\"word\", binary=True, ngram_range=(1, 1))\n",
    "vectorizerCategory = CountVectorizer (min_df=1)\n",
    "\n",
    "X = vectorizerContent.fit_transform(content)\n",
    "X_2=vectorizerContent_2.fit_transform(content)\n",
    "Xcat = vectorizerCategory.fit_transform(category)\n",
    "xx = X.toarray().transpose()\n",
    "xxcat = Xcat.toarray().transpose()\n",
    "\n",
    "selected_feature_names_Cont = np.asarray(vectorizerContent.get_feature_names())\n",
    "selected_feature_names_Cat = np.asarray(vectorizerCategory.get_feature_names())\n"
   ]
  },
  {
   "cell_type": "code",
   "execution_count": 6,
   "metadata": {},
   "outputs": [],
   "source": [
    "class OcTm (object):\n",
    "    def __init__(self,  eta=1.0):\n",
    "        self.eta=eta\n",
    "        \n",
    "    def fit(self, X, y):\n",
    "        wordTopic=X.toarray().transpose() @ y\n",
    "        self.ProbTopicWord = wordTopic.transpose()/np.sum(wordTopic, axis=1)\n",
    "        ProbTopicDoc=X@self.ProbTopicWord.transpose()\n",
    "        self.ProbTopicDoc=ProbTopicDoc.transpose()/np.sum(ProbTopicDoc, axis=1)\n",
    "        return self\n",
    "    \n",
    "    def predict(self, query):\n",
    "        predictMatrixW = []\n",
    "        el_data= {}\n",
    "        new_text_1=re.findall('\\w+', query)\n",
    "        new_text_2 = vectorizerContent_2.transform(new_text_1).toarray()\n",
    "        penalty=(len(new_text_1)-sum(sum(new_text_2)))*self.eta\n",
    "        self.new_text_1=new_text_1\n",
    "        self.new_text_2=new_text_2\n",
    "        self.penalty=penalty\n",
    "        self.topicNew=np.dot(self.ProbTopicWord, vectorizerContent.transform([query]).toarray().transpose())\n",
    "        el_data[selected_feature_names_Cat[0]] = self.topicNew.sum()\n",
    "        el_data['other'] = penalty\n",
    "        self.el_data=el_data\n",
    "        predictMatrixW.append(dict(el_data))\n",
    "        dfMW = DataFrame(predictMatrixW)\n",
    "        dfSumMW=dfMW.sum()\n",
    "        i =0\n",
    "        dfSumMW.sort_values(ascending=False, kind='quicksort', na_position='last', inplace=True)\n",
    "        for el in dfSumMW.T.iteritems():\n",
    "            i += 1\n",
    "            if i < 3:\n",
    "                return (el[0], round(el[1]/dfSumMW.sum(), 2))\n",
    "\n"
   ]
  },
  {
   "cell_type": "code",
   "execution_count": 7,
   "metadata": {},
   "outputs": [
    {
     "data": {
      "text/plain": [
       "<__main__.OcTm at 0x1d9b5c0b240>"
      ]
     },
     "execution_count": 7,
     "metadata": {},
     "output_type": "execute_result"
    }
   ],
   "source": [
    "ot=OcTm(eta=1.0)\n",
    "ot.fit(X, Xcat)"
   ]
  },
  {
   "cell_type": "code",
   "execution_count": 8,
   "metadata": {},
   "outputs": [
    {
     "data": {
      "text/plain": [
       "('sport', 1.0)"
      ]
     },
     "execution_count": 8,
     "metadata": {},
     "output_type": "execute_result"
    }
   ],
   "source": [
    "ot.predict ('рейтинг футбольных сборных')"
   ]
  },
  {
   "cell_type": "code",
   "execution_count": 9,
   "metadata": {},
   "outputs": [
    {
     "name": "stdout",
     "output_type": "stream",
     "text": [
      "500 google обогнала microsoft и заняла второе место среди it-компаний по капитализации other 0.75 0.002\n",
      "1000 санта-клаус прибыл в голливуд (видео) other 1.0 0.002\n",
      "Wall time: 1.71 s\n"
     ]
    }
   ],
   "source": [
    "%%time\n",
    "\n",
    "i = 0\n",
    "outputpredict = []\n",
    "outputpredictVal=[]\n",
    "executionTime=[]\n",
    "for query in data_test['title']:\n",
    "    start_time = time.time()\n",
    "    out=ot.predict(query)\n",
    "    end_time = time.time()\n",
    "    execution_time = round(end_time - start_time, 5)\n",
    "    outputpredict.append(out[0])\n",
    "    outputpredictVal.append(out[1])\n",
    "    i+=1\n",
    "    executionTime.append(execution_time)\n",
    "    if i%500==0:\n",
    "        print (i, query, out[0], out[1], execution_time)\n",
    "\n",
    "    "
   ]
  },
  {
   "cell_type": "code",
   "execution_count": 10,
   "metadata": {},
   "outputs": [],
   "source": [
    "clean_test_reviews = []\n",
    "for query in data_test['title']:\n",
    "    clean_test_reviews.append(query)"
   ]
  },
  {
   "cell_type": "code",
   "execution_count": 11,
   "metadata": {},
   "outputs": [],
   "source": [
    "output = pd.DataFrame( data={\"title\": clean_test_reviews, 'topic': outputpredict, 'val': outputpredictVal, 'time': executionTime} )\n",
    "outClass=[]\n",
    "try:\n",
    "    outClass.append(output['topic'].value_counts()['other'])\n",
    "except:\n",
    "    outClass.append(0)\n",
    "#print (output['topic'].value_counts()['other'])"
   ]
  },
  {
   "cell_type": "code",
   "execution_count": 12,
   "metadata": {},
   "outputs": [
    {
     "data": {
      "text/plain": [
       "other    943\n",
       "sport     57\n",
       "Name: topic, dtype: int64"
      ]
     },
     "execution_count": 12,
     "metadata": {},
     "output_type": "execute_result"
    }
   ],
   "source": [
    "output['topic'].value_counts()"
   ]
  },
  {
   "cell_type": "code",
   "execution_count": 13,
   "metadata": {},
   "outputs": [
    {
     "name": "stdout",
     "output_type": "stream",
     "text": [
      "accuracy:   0.936\n",
      "[[924  45]\n",
      " [ 19  12]]\n"
     ]
    },
    {
     "data": {
      "image/png": "[encoded data removed]",
      "text/plain": [
       "<matplotlib.figure.Figure at 0x1d9b055f6d8>"
      ]
     },
     "metadata": {},
     "output_type": "display_data"
    }
   ],
   "source": [
    "score = metrics.accuracy_score(data_test.topic.tolist(), outputpredict)\n",
    "print(\"accuracy:   %0.3f\" % score)\n",
    "\n",
    "confmat=confusion_matrix(data_test.topic.tolist(), outputpredict)\n",
    "print (confmat)\n",
    "labels=['other', 'sport']\n",
    "confmat=metrics.confusion_matrix(data_test.topic.tolist(), outputpredict, labels=labels)\n",
    "fig, ax = plt.subplots(figsize=(5,5))\n",
    "ax.matshow(confmat, cmap=plt.cm.Blues, alpha=0.3)\n",
    "for i in range(confmat.shape[0]):\n",
    "    #print (labels[i])\n",
    "    for j in range(confmat.shape[1]):\n",
    "        #print (labels[j])\n",
    "        ax.text(x=j, y=i,\n",
    "               s=confmat[i,j],\n",
    "               va='center', ha='center')\n",
    "plt.xticks(np.arange(0,2), labels)\n",
    "plt.yticks(np.arange(0,2), labels)\n",
    "plt.xlabel('распознанная метка')\n",
    "plt.ylabel('истинная метка')\n",
    "plt.savefig('data/OC-TM_t-f.png')\n",
    "plt.show()"
   ]
  },
  {
   "cell_type": "code",
   "execution_count": null,
   "metadata": {},
   "outputs": [],
   "source": []
  }
 ],
 "metadata": {
  "kernelspec": {
   "display_name": "Python 3",
   "language": "python",
   "name": "python3"
  },
  "language_info": {
   "codemirror_mode": {
    "name": "ipython",
    "version": 3
   },
   "file_extension": ".py",
   "mimetype": "text/x-python",
   "name": "python",
   "nbconvert_exporter": "python",
   "pygments_lexer": "ipython3",
   "version": "3.6.4"
  }
 },
 "nbformat": 4,
 "nbformat_minor": 2
}
