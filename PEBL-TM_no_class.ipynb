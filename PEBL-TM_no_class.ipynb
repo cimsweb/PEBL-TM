{
 "cells": [
  {
   "cell_type": "code",
   "execution_count": 1,
   "metadata": {
    "collapsed": true
   },
   "outputs": [],
   "source": [
    "# -*- coding: utf-8 -*-\n",
    "from sklearn.feature_extraction.text import CountVectorizer, TfidfVectorizer\n",
    "from lxml import objectify\n",
    "from pandas import DataFrame\n",
    "from datetime import datetime, date, time\n",
    "from dateutil.parser import parse\n",
    "import pandas as pd\n",
    "import numpy as np\n",
    "import sklearn as sk\n",
    "import time\n",
    "import sys\n",
    "from sklearn import metrics\n",
    "import re\n",
    "import nltk.stem\n",
    "\n",
    "ru_stemmer = nltk.stem.SnowballStemmer('russian')\n",
    "from numpy.lib.scimath import logn\n",
    "from math import e\n",
    "from sklearn import preprocessing\n",
    "from IPython.display import display, HTML\n",
    "from sklearn.metrics import confusion_matrix\n",
    "import matplotlib.pyplot as plt\n",
    "from matplotlib import rc\n",
    "font = {'family': 'Verdana',\n",
    "        'weight': 'normal'}\n",
    "rc('font', **font)\n"
   ]
  },
  {
   "cell_type": "code",
   "execution_count": 2,
   "metadata": {
    "collapsed": true
   },
   "outputs": [],
   "source": [
    "\n",
    "class StemmedCountVectorizer(TfidfVectorizer):\n",
    "    def build_analyzer(self):\n",
    "        analyzer = super(StemmedCountVectorizer, self).build_analyzer()\n",
    "        return lambda doc: ([ru_stemmer.stem(w) for w in analyzer(doc)])\n",
    "\n",
    "#vectorizerContent = StemmedCountVectorizer(min_df=1, analyzer=\"word\", stop_words=stop_words)"
   ]
  },
  {
   "cell_type": "code",
   "execution_count": 3,
   "metadata": {
    "collapsed": false
   },
   "outputs": [
    {
     "name": "stdout",
     "output_type": "stream",
     "text": [
      "10748\n",
      "130 1000\n",
      "Test \n",
      " other    969\n",
      "sport     31\n",
      "Name: topic, dtype: int64 \n",
      "ALL \n",
      " other    10549\n",
      "sport      199\n",
      "Name: topic, dtype: int64 \n",
      "Learning\n",
      " sport    117\n",
      "other     13\n",
      "Name: topic, dtype: int64\n"
     ]
    }
   ],
   "source": [
    "data_start=pd.read_pickle('data/WikiData_dat_5.pkl')\n",
    "#print (data_start.head(1))\n",
    "topic=[]\n",
    "for row in data_start['cat'].tolist():\n",
    "    if \"спорт\" in row:\n",
    "        topic.append(\"sport\")\n",
    "    else:\n",
    "        topic.append(\"other\")\n",
    "print (len(topic))\n",
    "data_start['topic']=topic\n",
    "data_bi=data_start[['title', 'cat', 'text2', 'noun', 'topic']][:3000]\n",
    "data_test=data_start[['title', 'cat', 'text2', 'noun', 'topic']][3000:4000]\n",
    "d_sport = (data_bi['topic']==u'sport')\n",
    "d_other=(data_bi['topic']==u'other')\n",
    "data2=pd.concat([data_bi.loc[d_sport], data_bi.loc[d_other]])\n",
    "data=data2[:130]\n",
    "print (len(data), len(data_test))\n",
    "print ('Test \\n', data_test['topic'].value_counts(), '\\nALL \\n',  data_start['topic'].value_counts(), '\\nLearning\\n', data['topic'].value_counts())\n",
    "\n"
   ]
  },
  {
   "cell_type": "code",
   "execution_count": 4,
   "metadata": {
    "collapsed": false
   },
   "outputs": [
    {
     "name": "stdout",
     "output_type": "stream",
     "text": [
      "2\n"
     ]
    }
   ],
   "source": [
    "dfTimeUniqCat=pd.unique(data.topic.ravel())\n",
    "print (len(dfTimeUniqCat))\n",
    "category = data['topic'].tolist()\n",
    "category = [str(i) for i in category]\n",
    "#category = list(map(str, category))\n",
    "content = data['title'].tolist()\n",
    "stop_words = ['и']\n",
    "content  = [str(x) for x in content]\n",
    "for x in category:\n",
    "    if not isinstance(x, str):\n",
    "        print (x)\n"
   ]
  },
  {
   "cell_type": "code",
   "execution_count": 5,
   "metadata": {
    "collapsed": false
   },
   "outputs": [
    {
     "name": "stdout",
     "output_type": "stream",
     "text": [
      "Wall time: 91.1 ms\n"
     ]
    }
   ],
   "source": [
    "%%time\n",
    "vectorizerContent = StemmedCountVectorizer (min_df=1, stop_words=stop_words, lowercase=True, analyzer=\"word\")\n",
    "vectorizerCategory = CountVectorizer (min_df=1)\n",
    "\n",
    "X = vectorizerContent.fit_transform(content)\n",
    "Xcat = vectorizerCategory.fit_transform(category)\n",
    "#Xcat = category\n",
    "xx = X.toarray().transpose()\n",
    "xxcat = Xcat.toarray().transpose()\n",
    "\n",
    "selected_feature_names_Cont = np.asarray(vectorizerContent.get_feature_names())\n",
    "selected_feature_names_Cat = np.asarray(vectorizerCategory.get_feature_names())\n"
   ]
  },
  {
   "cell_type": "code",
   "execution_count": 6,
   "metadata": {
    "collapsed": false
   },
   "outputs": [
    {
     "name": "stdout",
     "output_type": "stream",
     "text": [
      "Wall time: 37 ms\n"
     ]
    }
   ],
   "source": [
    "%%time\n",
    "i = 0\n",
    "Pwt = 0\n",
    "for xC in Xcat:\n",
    "    Pwt += np.array(xC.toarray())*np.array(X[i].toarray().transpose())\n",
    "    #print (i)\n",
    "    i += 1\n",
    "#print (Pwt)\n",
    "#%%time\n",
    "i1 = 0\n",
    "Theta = np.arange(Pwt.size, dtype=float).reshape(Pwt.sum(axis=1).size, Pwt[0].size)\n",
    "for el4 in Pwt.sum(axis=1):\n",
    "    i2 = 0\n",
    "    for el1 in Pwt[i1]:\n",
    "        Theta[i1][i2]=float(el1)/Pwt[i1].sum()\n",
    "        i2 += 1\n",
    "    i1 += 1\n",
    "#print (Theta)"
   ]
  },
  {
   "cell_type": "code",
   "execution_count": 7,
   "metadata": {
    "collapsed": false
   },
   "outputs": [
    {
     "name": "stdout",
     "output_type": "stream",
     "text": [
      "Количество фраз в обучении = 130\n",
      "Количество слов в обучении = 533\n",
      "Количество категорий = 2\n",
      "Слов в коллекции = 314.196453347\n"
     ]
    }
   ],
   "source": [
    "#количество документов в коллекции\n",
    "countDoc = len(content)\n",
    "print (\"Количество фраз в обучении = %s\" %countDoc)\n",
    "\n",
    "print (\"Количество слов в обучении = %s\" % len(Pwt.sum(axis=1)))\n",
    "print (\"Количество категорий = %s\" % len(Pwt.sum(axis=0)))\n",
    "print (\"Слов в коллекции = %s\" % Pwt.sum())"
   ]
  },
  {
   "cell_type": "code",
   "execution_count": 8,
   "metadata": {
    "collapsed": true
   },
   "outputs": [],
   "source": [
    "def predictWordLDA(query, p):\n",
    "    predictMatrixW = []\n",
    "    cN=int(len(query.split(\" \"))/2)\n",
    "    for w in query.split(\" \"):\n",
    "        newWord = vectorizerContent.transform([w]).toarray()\n",
    "        #v1=float(xxcat[1].sum())/(xxcat[1].sum()+xxcat[0].sum())\n",
    "        #v0=float(xxcat[0].sum())/(xxcat[1].sum()+xxcat[0].sum())\n",
    "        v1=p\n",
    "        v0=1.0-v1\n",
    "        el_data= {}\n",
    "        if newWord.sum()==0:\n",
    "            cN+=1\n",
    "            el_data[selected_feature_names_Cat[0]] = v0#*logn(e, cN)\n",
    "            #print (selected_feature_names_Cat[0], v0)\n",
    "            el_data[selected_feature_names_Cat[1]] = v1#*logn(e, cN)\n",
    "            #print (selected_feature_names_Cat[1], v1)\n",
    "            predictMatrixW.append(dict(el_data))\n",
    "        else:\n",
    "            j=0\n",
    "            for inNew in np.nditer(newWord):\n",
    "                if inNew > 0:\n",
    "                    #wordInDoc = float(xx[j].sum())\n",
    "                    k = 0\n",
    "                    for inCat in Pwt[j]:\n",
    "                        if inCat > 0:\n",
    "                            #wordInCat = float(xxcat[k].sum())\n",
    "                            #*(1-wordInCat/countDoc)*(1-wordInDoc/countDoc)\n",
    "                            cVal=Theta[j][k]#*(1-wordInCat/countDoc)*(1-wordInDoc/countDoc)\n",
    "                            el_data[selected_feature_names_Cat[k]] = cVal\n",
    "                            predictMatrixW.append(dict(el_data))\n",
    "                        k +=1\n",
    "                j+=1\n",
    "    dfMW = DataFrame(predictMatrixW)\n",
    "    dfSumMW=dfMW.sum()\n",
    "    i =0\n",
    "    dfSumMW.sort_values(ascending=False, kind='quicksort', na_position='last', inplace=True)\n",
    "    for el in dfSumMW.T.iteritems():\n",
    "        i += 1\n",
    "        if i < 2:\n",
    "            #return (\"%s; %f\" % (el[0], el[1]/dfSumMW.sum()))\n",
    "            return (el[0], el[1]/dfSumMW.sum())\n",
    "        \n",
    "        "
   ]
  },
  {
   "cell_type": "code",
   "execution_count": 11,
   "metadata": {
    "collapsed": true
   },
   "outputs": [],
   "source": [
    "clean_test_reviews = []\n",
    "for query in data_test['title']:\n",
    "    clean_test_reviews.append(query)"
   ]
  },
  {
   "cell_type": "code",
   "execution_count": 12,
   "metadata": {
    "collapsed": false
   },
   "outputs": [
    {
     "name": "stdout",
     "output_type": "stream",
     "text": [
      "500 google обогнала microsoft и заняла второе место среди it-компаний по капитализации other 0.662705526405 0.00851\n",
      "1000 санта-клаус прибыл в голливуд (видео) other 0.89 0.0035\n",
      "Wall time: 6.32 s\n"
     ]
    }
   ],
   "source": [
    "%%time\n",
    "\n",
    "i = 0\n",
    "outputpredict = []\n",
    "outputpredictVal=[]\n",
    "executionTime=[]\n",
    "for query in data_test['title']:\n",
    "    start_time = time.time()\n",
    "    out=predictWordLDA(query, 0.11)\n",
    "    end_time = time.time()\n",
    "    execution_time = round(end_time - start_time, 5)\n",
    "    outputpredict.append(out[0])\n",
    "    outputpredictVal.append(out[1])\n",
    "    i+=1\n",
    "    executionTime.append(execution_time)\n",
    "    if i%500==0:\n",
    "        print (i, query, out[0], out[1], execution_time)\n",
    "\n",
    "    "
   ]
  },
  {
   "cell_type": "code",
   "execution_count": 13,
   "metadata": {
    "collapsed": false
   },
   "outputs": [
    {
     "name": "stdout",
     "output_type": "stream",
     "text": [
      "97\n"
     ]
    }
   ],
   "source": [
    "output = pd.DataFrame( data={\"title\": clean_test_reviews, 'topic': outputpredict, 'val': outputpredictVal, 'time': executionTime} )\n",
    "outClass=[]\n",
    "try:\n",
    "    outClass.append(output['topic'].value_counts()['other'])\n",
    "except:\n",
    "    outClass.append(0)\n",
    "print (output['topic'].value_counts()['sport'])"
   ]
  },
  {
   "cell_type": "code",
   "execution_count": 15,
   "metadata": {
    "collapsed": false
   },
   "outputs": [
    {
     "name": "stdout",
     "output_type": "stream",
     "text": [
      "accuracy:   0.908\n",
      "[[890  79]\n",
      " [ 13  18]]\n"
     ]
    },
    {
     "data": {
      "image/png": "[encoded data removed]",
      "text/plain": [
       "<matplotlib.figure.Figure at 0x2855d288240>"
      ]
     },
     "metadata": {},
     "output_type": "display_data"
    }
   ],
   "source": [
    "score = metrics.accuracy_score(data_test.topic.tolist(), outputpredict)\n",
    "print(\"accuracy:   %0.3f\" % score)\n",
    "\n",
    "confmat=confusion_matrix(data_test.topic.tolist(), outputpredict)\n",
    "print (confmat)\n",
    "\n",
    "labels=['other', 'sport']\n",
    "confmat=metrics.confusion_matrix(data_test.topic.tolist(), outputpredict, labels=labels)\n",
    "fig, ax = plt.subplots(figsize=(5,5))\n",
    "ax.matshow(confmat, cmap=plt.cm.Blues, alpha=0.3)\n",
    "for i in range(confmat.shape[0]):\n",
    "    #print (labels[i])\n",
    "    for j in range(confmat.shape[1]):\n",
    "        #print (labels[j])\n",
    "        ax.text(x=j, y=i,\n",
    "               s=confmat[i,j],\n",
    "               va='center', ha='center')\n",
    "plt.xticks(np.arange(0,2), labels)\n",
    "plt.yticks(np.arange(0,2), labels)\n",
    "plt.xlabel('распознанная метка')\n",
    "plt.ylabel('истинная метка')\n",
    "plt.savefig('data/BI-TM_t-f.png')\n",
    "plt.show()"
   ]
  },
  {
   "cell_type": "code",
   "execution_count": null,
   "metadata": {
    "collapsed": true
   },
   "outputs": [],
   "source": []
  },
  {
   "cell_type": "code",
   "execution_count": null,
   "metadata": {
    "collapsed": true
   },
   "outputs": [],
   "source": []
  },
  {
   "cell_type": "code",
   "execution_count": null,
   "metadata": {
    "collapsed": true
   },
   "outputs": [],
   "source": []
  }
 ],
 "metadata": {
  "anaconda-cloud": {},
  "kernelspec": {
   "display_name": "Python [conda root]",
   "language": "python",
   "name": "conda-root-py"
  },
  "language_info": {
   "codemirror_mode": {
    "name": "ipython",
    "version": 3
   },
   "file_extension": ".py",
   "mimetype": "text/x-python",
   "name": "python",
   "nbconvert_exporter": "python",
   "pygments_lexer": "ipython3",
   "version": "3.5.2"
  }
 },
 "nbformat": 4,
 "nbformat_minor": 1
}
